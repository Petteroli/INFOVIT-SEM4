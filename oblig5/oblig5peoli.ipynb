{
 "cells": [
  {
   "cell_type": "code",
   "execution_count": 3,
   "metadata": {},
   "outputs": [],
   "source": [
    "import networkx as nx\n",
    "import community as community_louvain\n",
    "import matplotlib.cm as cm\n",
    "import matplotlib.pyplot as plt\n",
    "import pandas as pd\n",
    "import numpy as np"
   ]
  },
  {
   "cell_type": "code",
   "execution_count": 11,
   "metadata": {},
   "outputs": [],
   "source": [
    "df = pd.read_csv(\"nutrients.csv\", header=None, names=[\"Source\", \"Target\"])"
   ]
  },
  {
   "cell_type": "code",
   "execution_count": 12,
   "metadata": {},
   "outputs": [],
   "source": [
    "G = nx.from_pandas_edgelist(df, source=\"Source\", target=\"Target\")"
   ]
  },
  {
   "cell_type": "code",
   "execution_count": 18,
   "metadata": {},
   "outputs": [
    {
     "name": "stdout",
     "output_type": "stream",
     "text": [
      "[('A', {}), ('carrots', {}), ('eggs', {}), ('fatty fish', {}), ('green leafy vegs', {}), ('liver', {}), ('milk', {}), ('tomatoes', {}), ('B12', {}), ('B6', {}), ('asparagus', {}), ('beans', {}), ('kidneys', {}), ('potatoes', {}), ('C', {}), ('pumpkins', {}), ('Ca', {}), ('broccoli', {}), ('cheese', {}), ('Cu', {}), ('nuts', {}), ('whole grains', {}), ('D', {}), ('mushrooms', {}), ('E', {}), ('seeds', {}), ('Mn', {}), ('legumes', {}), ('wheat', {}), ('Se', {}), ('Zn', {}), ('beef', {}), ('riboflavin', {}), ('niacin', {}), ('folates', {}), ('spinach', {}), ('poultry', {}), ('shellfish', {}), ('thiamin', {}), ('veg oils', {}), ('yogurt', {})]\n",
      "[('A', 'carrots', {}), ('A', 'eggs', {}), ('A', 'fatty fish', {}), ('A', 'green leafy vegs', {}), ('A', 'liver', {}), ('A', 'milk', {}), ('A', 'tomatoes', {}), ('carrots', 'C', {}), ('eggs', 'B12', {}), ('eggs', 'riboflavin', {}), ('fatty fish', 'B6', {}), ('fatty fish', 'D', {}), ('fatty fish', 'B12', {}), ('fatty fish', 'niacin', {}), ('green leafy vegs', 'Mn', {}), ('green leafy vegs', 'C', {}), ('green leafy vegs', 'Ca', {}), ('green leafy vegs', 'E', {}), ('green leafy vegs', 'riboflavin', {}), ('liver', 'B6', {}), ('liver', 'Cu', {}), ('liver', 'folates', {}), ('liver', 'Se', {}), ('liver', 'Zn', {}), ('milk', 'B12', {}), ('milk', 'D', {}), ('milk', 'Ca', {}), ('milk', 'riboflavin', {}), ('tomatoes', 'C', {}), ('tomatoes', 'tomatoes', {}), ('B12', 'beef', {}), ('B12', 'poultry', {}), ('B6', 'asparagus', {}), ('B6', 'beans', {}), ('B6', 'kidneys', {}), ('B6', 'potatoes', {}), ('B6', 'beef', {}), ('B6', 'poultry', {}), ('asparagus', 'folates', {}), ('beans', 'Zn', {}), ('beans', 'Cu', {}), ('kidneys', 'Se', {}), ('kidneys', 'Zn', {}), ('kidneys', 'Cu', {}), ('potatoes', 'Zn', {}), ('potatoes', 'Cu', {}), ('C', 'pumpkins', {}), ('C', 'broccoli', {}), ('Ca', 'broccoli', {}), ('Ca', 'cheese', {}), ('Ca', 'yogurt', {}), ('Cu', 'nuts', {}), ('Cu', 'whole grains', {}), ('Cu', 'shellfish', {}), ('nuts', 'E', {}), ('nuts', 'Mn', {}), ('nuts', 'niacin', {}), ('nuts', 'Zn', {}), ('whole grains', 'Mn', {}), ('whole grains', 'niacin', {}), ('whole grains', 'thiamin', {}), ('D', 'mushrooms', {}), ('E', 'seeds', {}), ('E', 'veg oils', {}), ('seeds', 'Mn', {}), ('seeds', 'niacin', {}), ('Mn', 'legumes', {}), ('Mn', 'wheat', {}), ('legumes', 'riboflavin', {}), ('Se', 'shellfish', {}), ('Zn', 'beef', {}), ('Zn', 'poultry', {}), ('beef', 'riboflavin', {}), ('beef', 'niacin', {}), ('folates', 'spinach', {})]\n"
     ]
    }
   ],
   "source": [
    "degrees = G.degree()\n",
    "nodes = G.nodes()\n",
    "\n",
    "print(G.nodes(data = True))\n",
    "print(G.edges(data = True))"
   ]
  },
  {
   "cell_type": "code",
   "execution_count": 14,
   "metadata": {},
   "outputs": [
    {
     "name": "stdout",
     "output_type": "stream",
     "text": [
      "Degree Centrality:\n",
      "A: 0.1750\n",
      "carrots: 0.0500\n",
      "eggs: 0.0750\n",
      "fatty fish: 0.1250\n",
      "green leafy vegs: 0.1500\n",
      "liver: 0.1500\n",
      "milk: 0.1250\n",
      "tomatoes: 0.1000\n",
      "B12: 0.1250\n",
      "B6: 0.2000\n",
      "asparagus: 0.0500\n",
      "beans: 0.0750\n",
      "kidneys: 0.1000\n",
      "potatoes: 0.0750\n",
      "C: 0.1250\n",
      "pumpkins: 0.0250\n",
      "Ca: 0.1250\n",
      "broccoli: 0.0500\n",
      "cheese: 0.0250\n",
      "Cu: 0.1750\n",
      "nuts: 0.1250\n",
      "whole grains: 0.1000\n",
      "D: 0.0750\n",
      "mushrooms: 0.0250\n",
      "E: 0.1000\n",
      "seeds: 0.0750\n",
      "Mn: 0.1500\n",
      "legumes: 0.0500\n",
      "wheat: 0.0250\n",
      "Se: 0.0750\n",
      "Zn: 0.1750\n",
      "beef: 0.1250\n",
      "riboflavin: 0.1250\n",
      "niacin: 0.1250\n",
      "folates: 0.0750\n",
      "spinach: 0.0250\n",
      "poultry: 0.0750\n",
      "shellfish: 0.0500\n",
      "thiamin: 0.0250\n",
      "veg oils: 0.0250\n",
      "yogurt: 0.0250\n"
     ]
    }
   ],
   "source": [
    "degree_centrality = nx.degree_centrality(G) \n",
    "print(\"Degree Centrality:\")\n",
    "for node, score in degree_centrality.items():\n",
    "    print(f\"{node}: {score:.4f}\")"
   ]
  },
  {
   "cell_type": "code",
   "execution_count": 15,
   "metadata": {},
   "outputs": [
    {
     "name": "stdout",
     "output_type": "stream",
     "text": [
      "\n",
      "Eigenvector Centrality:\n",
      "A: 0.2204\n",
      "carrots: 0.0610\n",
      "eggs: 0.1171\n",
      "fatty fish: 0.2100\n",
      "green leafy vegs: 0.1602\n",
      "liver: 0.2813\n",
      "milk: 0.1497\n",
      "tomatoes: 0.0771\n",
      "B12: 0.1873\n",
      "B6: 0.3346\n",
      "asparagus: 0.0866\n",
      "beans: 0.1932\n",
      "kidneys: 0.2185\n",
      "potatoes: 0.1932\n",
      "C: 0.0719\n",
      "pumpkins: 0.0150\n",
      "Ca: 0.0780\n",
      "broccoli: 0.0313\n",
      "cheese: 0.0163\n",
      "Cu: 0.2740\n",
      "nuts: 0.2131\n",
      "whole grains: 0.1315\n",
      "D: 0.0785\n",
      "mushrooms: 0.0164\n",
      "E: 0.1010\n",
      "seeds: 0.0897\n",
      "Mn: 0.1432\n",
      "legumes: 0.0619\n",
      "wheat: 0.0299\n",
      "Se: 0.1215\n",
      "Zn: 0.3172\n",
      "beef: 0.2458\n",
      "riboflavin: 0.1533\n",
      "niacin: 0.1857\n",
      "folates: 0.0802\n",
      "spinach: 0.0167\n",
      "poultry: 0.1751\n",
      "shellfish: 0.0825\n",
      "thiamin: 0.0274\n",
      "veg oils: 0.0211\n",
      "yogurt: 0.0163\n"
     ]
    }
   ],
   "source": [
    "eigenvector_centrality = nx.eigenvector_centrality(G)\n",
    "print(\"\\nEigenvector Centrality:\")\n",
    "for node, score in eigenvector_centrality.items():\n",
    "    print(f\"{node}: {score:.4f}\")"
   ]
  },
  {
   "cell_type": "code",
   "execution_count": 16,
   "metadata": {},
   "outputs": [],
   "source": [
    "partition = community_louvain.best_partition(G)"
   ]
  },
  {
   "cell_type": "code",
   "execution_count": 23,
   "metadata": {},
   "outputs": [],
   "source": [
    "pos = nx.spring_layout(G)"
   ]
  },
  {
   "cell_type": "code",
   "execution_count": 24,
   "metadata": {},
   "outputs": [],
   "source": [
    "d = dict(G.degree)"
   ]
  },
  {
   "cell_type": "code",
   "execution_count": 25,
   "metadata": {},
   "outputs": [],
   "source": [
    "nodesize = [v * 50 for v in d.values()]"
   ]
  },
  {
   "cell_type": "code",
   "execution_count": 26,
   "metadata": {},
   "outputs": [
    {
     "name": "stderr",
     "output_type": "stream",
     "text": [
      "/var/folders/27/tqtm6snx75b8mm_4xljd1c2c0000gn/T/ipykernel_40988/3120344289.py:1: MatplotlibDeprecationWarning: The get_cmap function was deprecated in Matplotlib 3.7 and will be removed two minor releases later. Use ``matplotlib.colormaps[name]`` or ``matplotlib.colormaps.get_cmap(obj)`` instead.\n",
      "  cmap = cm.get_cmap(\"viridis\" , max(partition.values()) + 1)\n"
     ]
    }
   ],
   "source": [
    "cmap = cm.get_cmap(\"viridis\" , max(partition.values()) + 1)"
   ]
  },
  {
   "cell_type": "code",
   "execution_count": 31,
   "metadata": {},
   "outputs": [
    {
     "data": {
      "image/png": "[encoded data removed]",
      "text/plain": [
       "<Figure size 640x480 with 1 Axes>"
      ]
     },
     "metadata": {},
     "output_type": "display_data"
    }
   ],
   "source": [
    "nx.draw_networkx_nodes(G, pos, partition.keys(), node_size=nodesize,cmap=cmap,node_color=list(partition.values()))\n",
    "nx.draw_networkx_edges(G,pos,alpha=0.5)\n",
    "plt.show()"
   ]
  },
  {
   "cell_type": "markdown",
   "metadata": {},
   "source": [
    "##TASK 2"
   ]
  },
  {
   "cell_type": "markdown",
   "metadata": {},
   "source": [
    "SELECT ?person ?personLabel ?father ?fatherLabel\n",
    "WHERE {\n",
    "  ?person wdt:P31 wd:Q5.\n",
    "  ?person wdt:P27 wd:Q30.\n",
    "  ?person wdt:P106 wd:Q82955.\n",
    "  ?person wdt:P22 ?father.\n",
    "  ?father wdt:P106 wd:Q82955.\n",
    "  SERVICE wikibase:label { bd:serviceParam wikibase:language \"[AUTO_LANGUAGE],en\". }\n",
    "}"
   ]
  },
  {
   "cell_type": "markdown",
   "metadata": {},
   "source": [
    "SELECT ?person ?personLabel \n",
    "WHERE {\n",
    "  ?person wdt:P31 wd:Q5. # Is a Human\n",
    "  ?person wdt:P27 wd:Q20. # Lives in Norway\n",
    "  ?person wdt:P106 wd:Q49757. # Is a Poet\n",
    "  ?person wdt:P569 ?dateOfBirth # Date of Birth\n",
    "  FILTER(YEAR(?dateOfBirth) > 1950) # Filter for date of birth after 1950\n",
    "  SERVICE wikibase:label { bd:serviceParam wikibase:language \"[AUTO_LANGUAGE],en\". }\n",
    "}"
   ]
  },
  {
   "cell_type": "markdown",
   "metadata": {},
   "source": [
    "SELECT (COUNT(*) AS ?count)\n",
    "WHERE {\n",
    "   ?item wdt:P31 wd:Q3918 # Is a University\n",
    "}"
   ]
  },
  {
   "cell_type": "markdown",
   "metadata": {},
   "source": [
    "SELECT *\n",
    "WHERE {\n",
    "  ?person wdt:P31 wd:Q5. # Is a human\n",
    "  ?person wdt:P27 wd:Q20. # Lives in Norway\n",
    "  ?person wdt:P106 wd:Q49757. # Is a poet\n",
    "  ?person wdt:P106 wd:Q82955. # Is a politician\n",
    "  ?person wdt:P19 ?birthplace. # Place of birth\n",
    "  ?birthplace wdt:P625 ?geo # Coordiante location\n",
    "  SERVICE wikibase:label { bd:serviceParam wikibase:language \"[AUTO_LANGUAGE],en\". }\n",
    "}"
   ]
  },
  {
   "cell_type": "markdown",
   "metadata": {},
   "source": [
    "SELECT DISTINCT ?person ?personLabel ?nobelPrizeLabel ?birthplace ?geo\n",
    "WHERE {\n",
    "  ?person wdt:P31 wd:Q5. # Is human\n",
    "  ?person wdt:P166 ?nobelPrize. # Is award\n",
    "  ?person wdt:P19 ?birthplace. # Place of birth\n",
    "  ?birthplace wdt:P625 ?geo. # Place of birth coordinate\n",
    "  ?nobelPrize wdt:P279 wd:Q7191. # Is Nobel price          \n",
    "  SERVICE wikibase:label { bd:serviceParam wikibase:language \"[AUTO_LANGUAGE],en\". }\n",
    "}"
   ]
  }
 ],
 "metadata": {
  "kernelspec": {
   "display_name": "base",
   "language": "python",
   "name": "python3"
  },
  "language_info": {
   "codemirror_mode": {
    "name": "ipython",
    "version": 3
   },
   "file_extension": ".py",
   "mimetype": "text/x-python",
   "name": "python",
   "nbconvert_exporter": "python",
   "pygments_lexer": "ipython3",
   "version": "3.11.4"
  },
  "orig_nbformat": 4
 },
 "nbformat": 4,
 "nbformat_minor": 2
}
